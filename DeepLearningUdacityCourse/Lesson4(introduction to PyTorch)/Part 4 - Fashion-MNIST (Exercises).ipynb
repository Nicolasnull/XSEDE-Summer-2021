{
 "cells": [
  {
   "cell_type": "markdown",
   "metadata": {},
   "source": [
    "# Classifying Fashion-MNIST\n",
    "\n",
    "Now it's your turn to build and train a neural network. You'll be using the [Fashion-MNIST dataset](https://github.com/zalandoresearch/fashion-mnist), a drop-in replacement for the MNIST dataset. MNIST is actually quite trivial with neural networks where you can easily achieve better than 97% accuracy. Fashion-MNIST is a set of 28x28 greyscale images of clothes. It's more complex than MNIST, so it's a better representation of the actual performance of your network, and a better representation of datasets you'll use in the real world.\n",
    "\n",
    "<img src='assets/fashion-mnist-sprite.png' width=500px>\n",
    "\n",
    "In this notebook, you'll build your own neural network. For the most part, you could just copy and paste the code from Part 3, but you wouldn't be learning. It's important for you to write the code yourself and get it to work. Feel free to consult the previous notebooks though as you work through this.\n",
    "\n",
    "First off, let's load the dataset through torchvision."
   ]
  },
  {
   "cell_type": "code",
   "execution_count": 2,
   "metadata": {},
   "outputs": [],
   "source": [
    "import torch\n",
    "from torchvision import datasets, transforms\n",
    "import helper\n",
    "\n",
    "# Define a transform to normalize the data\n",
    "transform = transforms.Compose([transforms.ToTensor(),\n",
    "                                transforms.Normalize((0.5,), (0.5,))])\n",
    "# Download and load the training data\n",
    "trainset = datasets.FashionMNIST('~/.pytorch/F_MNIST_data/', download=True, train=True, transform=transform)\n",
    "trainloader = torch.utils.data.DataLoader(trainset, batch_size=64, shuffle=True)\n",
    "\n",
    "# Download and load the test data\n",
    "testset = datasets.FashionMNIST('~/.pytorch/F_MNIST_data/', download=True, train=False, transform=transform)\n",
    "testloader = torch.utils.data.DataLoader(testset, batch_size=64, shuffle=True)"
   ]
  },
  {
   "cell_type": "markdown",
   "metadata": {},
   "source": [
    "Here we can see one of the images."
   ]
  },
  {
   "cell_type": "code",
   "execution_count": 3,
   "metadata": {},
   "outputs": [
    {
     "output_type": "execute_result",
     "data": {
      "text/plain": [
       "<AxesSubplot:>"
      ]
     },
     "metadata": {},
     "execution_count": 3
    },
    {
     "output_type": "display_data",
     "data": {
      "text/plain": "<Figure size 432x288 with 1 Axes>",
      "image/svg+xml": "<?xml version=\"1.0\" encoding=\"utf-8\" standalone=\"no\"?>\r\n<!DOCTYPE svg PUBLIC \"-//W3C//DTD SVG 1.1//EN\"\r\n  \"http://www.w3.org/Graphics/SVG/1.1/DTD/svg11.dtd\">\r\n<!-- Created with matplotlib (https://matplotlib.org/) -->\r\n<svg height=\"231.84pt\" version=\"1.1\" viewBox=\"0 0 231.84 231.84\" width=\"231.84pt\" xmlns=\"http://www.w3.org/2000/svg\" xmlns:xlink=\"http://www.w3.org/1999/xlink\">\r\n <metadata>\r\n  <rdf:RDF xmlns:cc=\"http://creativecommons.org/ns#\" xmlns:dc=\"http://purl.org/dc/elements/1.1/\" xmlns:rdf=\"http://www.w3.org/1999/02/22-rdf-syntax-ns#\">\r\n   <cc:Work>\r\n    <dc:type rdf:resource=\"http://purl.org/dc/dcmitype/StillImage\"/>\r\n    <dc:date>2021-05-27T12:02:14.104851</dc:date>\r\n    <dc:format>image/svg+xml</dc:format>\r\n    <dc:creator>\r\n     <cc:Agent>\r\n      <dc:title>Matplotlib v3.3.4, https://matplotlib.org/</dc:title>\r\n     </cc:Agent>\r\n    </dc:creator>\r\n   </cc:Work>\r\n  </rdf:RDF>\r\n </metadata>\r\n <defs>\r\n  <style type=\"text/css\">*{stroke-linecap:butt;stroke-linejoin:round;}</style>\r\n </defs>\r\n <g id=\"figure_1\">\r\n  <g id=\"patch_1\">\r\n   <path d=\"M 0 231.84 \r\nL 231.84 231.84 \r\nL 231.84 0 \r\nL 0 0 \r\nz\r\n\" style=\"fill:none;\"/>\r\n  </g>\r\n  <g id=\"axes_1\">\r\n   <g id=\"patch_2\">\r\n    <path d=\"M 7.2 224.64 \r\nL 224.64 224.64 \r\nL 224.64 7.2 \r\nL 7.2 7.2 \r\nz\r\n\" style=\"fill:#ffffff;\"/>\r\n   </g>\r\n   <g clip-path=\"url(#pade3eb9dff)\">\r\n    <image height=\"218\" id=\"image64c6925655\" transform=\"scale(1 -1)translate(0 -218)\" width=\"218\" x=\"7.2\" xlink:href=\"data:image/png;base64,\r\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\" y=\"-6.64\"/>\r\n   </g>\r\n   <g id=\"matplotlib.axis_1\">\r\n    <g id=\"xtick_1\">\r\n     <g id=\"line2d_1\"/>\r\n    </g>\r\n    <g id=\"xtick_2\">\r\n     <g id=\"line2d_2\"/>\r\n    </g>\r\n    <g id=\"xtick_3\">\r\n     <g id=\"line2d_3\"/>\r\n    </g>\r\n    <g id=\"xtick_4\">\r\n     <g id=\"line2d_4\"/>\r\n    </g>\r\n    <g id=\"xtick_5\">\r\n     <g id=\"line2d_5\"/>\r\n    </g>\r\n    <g id=\"xtick_6\">\r\n     <g id=\"line2d_6\"/>\r\n    </g>\r\n   </g>\r\n   <g id=\"matplotlib.axis_2\">\r\n    <g id=\"ytick_1\">\r\n     <g id=\"line2d_7\"/>\r\n    </g>\r\n    <g id=\"ytick_2\">\r\n     <g id=\"line2d_8\"/>\r\n    </g>\r\n    <g id=\"ytick_3\">\r\n     <g id=\"line2d_9\"/>\r\n    </g>\r\n    <g id=\"ytick_4\">\r\n     <g id=\"line2d_10\"/>\r\n    </g>\r\n    <g id=\"ytick_5\">\r\n     <g id=\"line2d_11\"/>\r\n    </g>\r\n    <g id=\"ytick_6\">\r\n     <g id=\"line2d_12\"/>\r\n    </g>\r\n   </g>\r\n  </g>\r\n </g>\r\n <defs>\r\n  <clipPath id=\"pade3eb9dff\">\r\n   <rect height=\"217.44\" width=\"217.44\" x=\"7.2\" y=\"7.2\"/>\r\n  </clipPath>\r\n </defs>\r\n</svg>\r\n",
      "image/png": "[encoded data removed]"
     },
     "metadata": {
      "needs_background": "light"
     }
    }
   ],
   "source": [
    "image, label = next(iter(trainloader))\n",
    "helper.imshow(image[0,:])"
   ]
  },
  {
   "cell_type": "markdown",
   "metadata": {},
   "source": [
    "## Building the network\n",
    "\n",
    "Here you should define your network. As with MNIST, each image is 28x28 which is a total of 784 pixels, and there are 10 classes. You should include at least one hidden layer. We suggest you use ReLU activations for the layers and to return the logits or log-softmax from the forward pass. It's up to you how many layers you add and the size of those layers."
   ]
  },
  {
   "cell_type": "code",
   "execution_count": 4,
   "metadata": {},
   "outputs": [],
   "source": [
    "from torch import nn, optim\n",
    "import torch.nn.functional as F"
   ]
  },
  {
   "cell_type": "code",
   "execution_count": 5,
   "metadata": {},
   "outputs": [
    {
     "output_type": "execute_result",
     "data": {
      "text/plain": [
       "Network(\n",
       "  (fc1): Linear(in_features=784, out_features=128, bias=True)\n",
       "  (fc2): Linear(in_features=128, out_features=128, bias=True)\n",
       "  (fc3): Linear(in_features=128, out_features=128, bias=True)\n",
       "  (fc4): Linear(in_features=128, out_features=10, bias=True)\n",
       ")"
      ]
     },
     "metadata": {},
     "execution_count": 5
    }
   ],
   "source": [
    "# TODO: Define your network architecture here\n",
    "\n",
    "class Network(nn.Module):\n",
    "    def __init__(self):\n",
    "        super().__init__()\n",
    "        self.fc1 = nn.Linear(784, 128)\n",
    "        self.fc2 = nn.Linear(128,128)\n",
    "        self.fc3 = nn.Linear(128, 128)\n",
    "        self.fc4 = nn.Linear(128, 10)\n",
    "    def forward(self, x):\n",
    "        x = F.relu(self.fc1(x))\n",
    "        x = F.relu(self.fc2(x))\n",
    "        x = F.relu(self.fc3(x))\n",
    "        x = F.log_softmax(self.fc4(x), dim=1)\n",
    "        return x\n",
    "\n",
    "model = Network()\n",
    "model"
   ]
  },
  {
   "cell_type": "markdown",
   "metadata": {},
   "source": [
    "# Train the network\n",
    "\n",
    "Now you should create your network and train it. First you'll want to define [the criterion](http://pytorch.org/docs/master/nn.html#loss-functions) ( something like `nn.CrossEntropyLoss`) and [the optimizer](http://pytorch.org/docs/master/optim.html) (typically `optim.SGD` or `optim.Adam`).\n",
    "\n",
    "Then write the training code. Remember the training pass is a fairly straightforward process:\n",
    "\n",
    "* Make a forward pass through the network to get the logits \n",
    "* Use the logits to calculate the loss\n",
    "* Perform a backward pass through the network with `loss.backward()` to calculate the gradients\n",
    "* Take a step with the optimizer to update the weights\n",
    "\n",
    "By adjusting the hyperparameters (hidden units, learning rate, etc), you should be able to get the training loss below 0.4."
   ]
  },
  {
   "cell_type": "code",
   "execution_count": 9,
   "metadata": {},
   "outputs": [],
   "source": [
    "# TODO: Create the network, define the criterion and optimizer\n",
    "criterion = nn.NLLLoss()\n",
    "optimizer = optim.Adam(model.parameters(), lr = 0.002)"
   ]
  },
  {
   "cell_type": "code",
   "execution_count": 10,
   "metadata": {},
   "outputs": [
    {
     "output_type": "stream",
     "name": "stdout",
     "text": [
      "269.11317947134376\n",
      "256.62870156019926\n",
      "249.1522747129202\n",
      "238.7614078745246\n",
      "233.62287115305662\n",
      "225.14670847728848\n",
      "221.30265671759844\n",
      "214.67386389151216\n",
      "212.93219294026494\n",
      "205.60667541250587\n",
      "202.12461150065064\n"
     ]
    }
   ],
   "source": [
    "# TODO: Train the network here\n",
    "epochs = 11\n",
    "for e in range(epochs):\n",
    "    running_loss = 0\n",
    "    for images, actual_class in trainloader:\n",
    "        #flatten the images\n",
    "        images = images.view(images.shape[0], -1)\n",
    "        \n",
    "        y = model.forward(images)\n",
    "        error = criterion(y, actual_class)\n",
    "        optimizer.zero_grad()\n",
    "        error.backward()\n",
    "        optimizer.step()\n",
    "\n",
    "        running_loss += error.item()\n",
    "    else:\n",
    "        print(running_loss)"
   ]
  },
  {
   "cell_type": "code",
   "execution_count": 17,
   "metadata": {},
   "outputs": [
    {
     "output_type": "display_data",
     "data": {
      "text/plain": "<Figure size 432x648 with 2 Axes>",
      "image/png": "[encoded data removed]"
     },
     "metadata": {
      "image/png": {
       "width": 424,
       "height": 216
      },
      "needs_background": "light"
     }
    }
   ],
   "source": [
    "%matplotlib inline\n",
    "%config InlineBackend.figure_format = 'retina'\n",
    "\n",
    "import helper\n",
    "\n",
    "# Test out your network!\n",
    "\n",
    "dataiter = iter(testloader)\n",
    "images, labels = dataiter.next()\n",
    "img = images[0]\n",
    "# Convert 2D image to 1D vector\n",
    "img = img.resize_(1, 784)\n",
    "\n",
    "# TODO: Calculate the class probabilities (softmax) for img\n",
    "ps = torch.exp(model(img))\n",
    "\n",
    "# Plot the image and probabilities\n",
    "helper.view_classify(img.resize_(1, 28, 28), ps, version='Fashion')"
   ]
  },
  {
   "cell_type": "code",
   "execution_count": null,
   "metadata": {},
   "outputs": [],
   "source": []
  }
 ],
 "metadata": {
  "kernelspec": {
   "name": "python388jvsc74a57bd02c8ae7b7397383be484f509670a744b7a75aaa69a8c48f2fc2b876db86f77bea",
   "display_name": "Python 3.8.8 64-bit"
  },
  "language_info": {
   "codemirror_mode": {
    "name": "ipython",
    "version": 3
   },
   "file_extension": ".py",
   "mimetype": "text/x-python",
   "name": "python",
   "nbconvert_exporter": "python",
   "pygments_lexer": "ipython3",
   "version": "3.8.8"
  },
  "metadata": {
   "interpreter": {
    "hash": "2c8ae7b7397383be484f509670a744b7a75aaa69a8c48f2fc2b876db86f77bea"
   }
  }
 },
 "nbformat": 4,
 "nbformat_minor": 2
}