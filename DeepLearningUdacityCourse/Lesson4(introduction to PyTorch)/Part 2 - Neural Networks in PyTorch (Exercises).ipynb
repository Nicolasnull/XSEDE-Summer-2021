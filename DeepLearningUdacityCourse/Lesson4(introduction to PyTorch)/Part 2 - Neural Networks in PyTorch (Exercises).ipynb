{
 "cells": [
  {
   "cell_type": "markdown",
   "metadata": {},
   "source": [
    "# Neural networks with PyTorch\n",
    "\n",
    "Deep learning networks tend to be massive with dozens or hundreds of layers, that's where the term \"deep\" comes from. You can build one of these deep networks using only weight matrices as we did in the previous notebook, but in general it's very cumbersome and difficult to implement. PyTorch has a nice module `nn` that provides a nice way to efficiently build large neural networks."
   ]
  },
  {
   "cell_type": "code",
   "execution_count": 36,
   "metadata": {
    "collapsed": true
   },
   "outputs": [],
   "source": [
    "# Import necessary packages\n",
    "\n",
    "%matplotlib inline\n",
    "%config InlineBackend.figure_format = 'retina'\n",
    "\n",
    "import numpy as np\n",
    "import torch\n",
    "\n",
    "import helper\n",
    "\n",
    "import matplotlib.pyplot as plt"
   ]
  },
  {
   "cell_type": "markdown",
   "metadata": {},
   "source": [
    "\n",
    "Now we're going to build a larger network that can solve a (formerly) difficult problem, identifying text in an image. Here we'll use the MNIST dataset which consists of greyscale handwritten digits. Each image is 28x28 pixels, you can see a sample below\n",
    "\n",
    "<img src='assets/mnist.png'>\n",
    "\n",
    "Our goal is to build a neural network that can take one of these images and predict the digit in the image.\n",
    "\n",
    "First up, we need to get our dataset. This is provided through the `torchvision` package. The code below will download the MNIST dataset, then create training and test datasets for us. Don't worry too much about the details here, you'll learn more about this later."
   ]
  },
  {
   "cell_type": "code",
   "execution_count": 37,
   "metadata": {
    "collapsed": true
   },
   "outputs": [],
   "source": [
    "### Run this cell\n",
    "\n",
    "from torchvision import datasets, transforms\n",
    "\n",
    "# Define a transform to normalize the data\n",
    "transform = transforms.Compose([transforms.ToTensor(),\n",
    "                              transforms.Normalize((0.5,), (0.5,)),\n",
    "                              ])\n",
    "\n",
    "# Download and load the training data\n",
    "trainset = datasets.MNIST('~/.pytorch/MNIST_data/', download=True, train=True, transform=transform)\n",
    "trainloader = torch.utils.data.DataLoader(trainset, batch_size=64, shuffle=True)"
   ]
  },
  {
   "cell_type": "markdown",
   "metadata": {},
   "source": [
    "We have the training data loaded into `trainloader` and we make that an iterator with `iter(trainloader)`. Later, we'll use this to loop through the dataset for training, like\n",
    "\n",
    "```python\n",
    "for image, label in trainloader:\n",
    "    ## do things with images and labels\n",
    "```\n",
    "\n",
    "You'll notice I created the `trainloader` with a batch size of 64, and `shuffle=True`. The batch size is the number of images we get in one iteration from the data loader and pass through our network, often called a *batch*. And `shuffle=True` tells it to shuffle the dataset every time we start going through the data loader again. But here I'm just grabbing the first batch so we can check out the data. We can see below that `images` is just a tensor with size `(64, 1, 28, 28)`. So, 64 images per batch, 1 color channel, and 28x28 images."
   ]
  },
  {
   "cell_type": "code",
   "execution_count": 38,
   "metadata": {
    "collapsed": true
   },
   "outputs": [
    {
     "output_type": "stream",
     "name": "stdout",
     "text": [
      "<class 'torch.Tensor'>\ntorch.Size([64, 1, 28, 28])\ntorch.Size([64])\n"
     ]
    }
   ],
   "source": [
    "dataiter = iter(trainloader)\n",
    "images, labels = dataiter.next()\n",
    "print(type(images))\n",
    "print(images.shape)\n",
    "print(labels.shape)"
   ]
  },
  {
   "cell_type": "markdown",
   "metadata": {},
   "source": [
    "This is what one of the images looks like. "
   ]
  },
  {
   "cell_type": "code",
   "execution_count": 39,
   "metadata": {
    "collapsed": true
   },
   "outputs": [
    {
     "output_type": "execute_result",
     "data": {
      "text/plain": [
       "<matplotlib.image.AxesImage at 0x19bf7432340>"
      ]
     },
     "metadata": {},
     "execution_count": 39
    },
    {
     "output_type": "display_data",
     "data": {
      "text/plain": "<Figure size 432x288 with 1 Axes>",
      "image/png": "[encoded data removed]"
     },
     "metadata": {
      "image/png": {
       "width": 251,
       "height": 248
      },
      "needs_background": "light"
     }
    }
   ],
   "source": [
    "plt.imshow(images[1].numpy().squeeze(), cmap='Greys_r')"
   ]
  },
  {
   "cell_type": "markdown",
   "metadata": {},
   "source": [
    "First, let's try to build a simple network for this dataset using weight matrices and matrix multiplications. Then, we'll see how to do it using PyTorch's `nn` module which provides a much more convenient and powerful method for defining network architectures.\n",
    "\n",
    "The networks you've seen so far are called *fully-connected* or *dense* networks. Each unit in one layer is connected to each unit in the next layer. In fully-connected networks, the input to each layer must be a one-dimensional vector (which can be stacked into a 2D tensor as a batch of multiple examples). However, our images are 28x28 2D tensors, so we need to convert them into 1D vectors. Thinking about sizes, we need to convert the batch of images with shape `(64, 1, 28, 28)` to a have a shape of `(64, 784)`, 784 is 28 times 28. This is typically called *flattening*, we flattened the 2D images into 1D vectors.\n",
    "\n",
    "Previously you built a network with one output unit. Here we need 10 output units, one for each digit. We want our network to predict the digit shown in an image, so what we'll do is calculate probabilities that the image is of any one digit or class. This ends up being a discrete probability distribution over the classes (digits) that tells us the most likely class for the image. That means we need 10 output units for the 10 classes (digits). We'll see how to convert the network output into a probability distribution next.\n",
    "\n",
    "> **Exercise:** Flatten the batch of images `images`. Then build a multi-layer network with 784 input units, 256 hidden units, and 10 output units using random tensors for the weights and biases. For now, use a sigmoid activation for the hidden layer. Leave the output layer without an activation, we'll add one that gives us a probability distribution next."
   ]
  },
  {
   "cell_type": "code",
   "execution_count": 40,
   "metadata": {
    "collapsed": true
   },
   "outputs": [
    {
     "output_type": "stream",
     "name": "stdout",
     "text": [
      "torch.Size([64, 10])\ntensor([[63.9069, 63.7129, 68.0048, 67.4931, 64.0730, 70.9138, 65.0471, 68.7973,\n         69.5111, 63.9686],\n        [58.9995, 58.6320, 62.1723, 62.1672, 60.1542, 67.0667, 60.9531, 66.4686,\n         61.4966, 58.4718],\n        [58.9810, 58.2505, 61.3717, 61.3062, 60.9253, 68.8278, 58.6132, 66.8140,\n         62.2209, 59.1032],\n        [56.5172, 56.4466, 59.7844, 57.0604, 58.1976, 65.1555, 56.7249, 63.0697,\n         59.8460, 58.0505],\n        [61.9045, 64.7252, 70.0013, 67.2202, 62.2458, 70.8654, 65.9233, 71.3986,\n         67.3699, 64.2290],\n        [60.7705, 61.9589, 64.1720, 62.7972, 59.8493, 66.9994, 61.7562, 67.8388,\n         61.9563, 58.0753],\n        [60.4976, 62.0519, 67.1636, 64.1547, 63.9774, 72.1584, 64.1147, 71.5396,\n         68.0598, 63.1088],\n        [63.2341, 67.7797, 70.7443, 67.8955, 64.9074, 73.4232, 65.8981, 72.5009,\n         70.2392, 65.7695],\n        [58.8364, 57.9680, 61.6697, 58.4534, 59.9625, 67.7471, 59.4261, 63.6336,\n         63.2214, 57.4895],\n        [61.2072, 64.0620, 66.4316, 64.3447, 63.2621, 69.5615, 63.2188, 70.8629,\n         65.5875, 63.7159],\n        [62.9280, 63.7965, 68.6236, 66.1602, 63.3559, 70.3470, 62.8863, 70.0884,\n         64.2945, 62.9126],\n        [57.3613, 59.7646, 67.0374, 59.5795, 58.8501, 62.0310, 58.6527, 65.6236,\n         60.2042, 61.9858],\n        [62.7334, 62.2230, 67.4095, 65.3715, 61.8035, 69.2595, 62.7940, 68.9235,\n         66.5137, 61.4655],\n        [63.5029, 68.1328, 69.4916, 65.9123, 66.8029, 76.2212, 66.1770, 75.3889,\n         70.5637, 65.8931],\n        [61.6975, 62.7907, 66.1678, 64.3890, 63.7983, 70.8592, 63.9279, 70.0562,\n         65.9299, 61.5963],\n        [63.6311, 63.6905, 67.2469, 63.1103, 59.1345, 68.4237, 61.7896, 68.8333,\n         63.8772, 59.7048],\n        [60.7722, 64.7924, 70.3180, 64.5094, 62.5906, 71.9871, 62.7341, 73.1106,\n         65.3427, 62.4727],\n        [61.2134, 62.9643, 66.5147, 65.2328, 64.6364, 68.8343, 64.1376, 70.2800,\n         63.9221, 64.4811],\n        [61.1916, 60.2081, 66.5785, 62.8962, 63.1981, 66.9930, 64.6388, 68.1082,\n         63.7082, 61.4148],\n        [60.8041, 63.7956, 67.2793, 63.3901, 61.3442, 67.8639, 62.1282, 70.4882,\n         64.4071, 61.7206],\n        [62.9496, 62.1778, 65.8230, 65.1747, 64.6420, 67.8305, 61.4743, 69.2429,\n         64.5324, 59.2376],\n        [66.0856, 66.3713, 66.2092, 66.5360, 65.2436, 72.8366, 65.4811, 71.9413,\n         63.9831, 64.2108],\n        [59.0437, 59.8454, 67.2855, 63.2183, 62.6339, 67.0027, 60.3195, 71.1658,\n         65.0103, 59.4435],\n        [63.7324, 65.7506, 68.8833, 67.3429, 67.8313, 74.7129, 67.4513, 73.3101,\n         71.5595, 66.0184],\n        [57.7813, 59.7574, 63.5798, 62.9721, 60.0246, 65.9029, 61.4020, 64.4905,\n         59.0901, 58.2802],\n        [51.6197, 56.1290, 58.7107, 58.0771, 55.3819, 61.1590, 56.2920, 64.0440,\n         58.6809, 55.7791],\n        [62.0473, 62.9455, 63.1578, 65.3620, 61.4520, 68.5569, 63.1213, 70.6346,\n         66.5397, 58.5020],\n        [56.5558, 59.4822, 61.7093, 58.4053, 60.0868, 67.7515, 56.9031, 64.5824,\n         62.6901, 58.3755],\n        [58.9283, 56.7580, 62.1208, 59.6954, 59.2485, 65.8812, 58.7952, 66.5708,\n         59.9996, 55.9643],\n        [62.3762, 63.6326, 66.4413, 65.2645, 62.0745, 70.2595, 62.5728, 69.9382,\n         64.7922, 60.3953],\n        [57.1473, 64.4287, 64.2616, 61.8246, 60.1483, 67.0683, 60.5042, 68.1341,\n         61.8502, 59.0324],\n        [60.1389, 58.9193, 64.9062, 61.4732, 61.5699, 67.7384, 60.4962, 68.7424,\n         61.6622, 62.7968],\n        [65.8205, 67.3324, 68.9880, 69.5821, 69.6357, 72.8054, 67.6243, 72.6800,\n         68.7233, 67.8395],\n        [56.4973, 57.8836, 62.9999, 60.5335, 55.6249, 63.8335, 56.6393, 66.1124,\n         59.7292, 55.9047],\n        [63.9111, 65.2928, 66.3071, 66.7984, 63.1159, 71.0775, 64.0927, 71.6115,\n         65.6239, 61.5941],\n        [61.4397, 57.8518, 62.1813, 63.7264, 57.7466, 65.3485, 60.7811, 66.2703,\n         63.5426, 55.2191],\n        [55.2798, 54.7922, 60.2542, 55.8002, 56.3228, 60.9848, 56.4119, 64.0797,\n         55.2863, 54.0174],\n        [61.7355, 59.8742, 63.4778, 60.9800, 60.2799, 67.1988, 61.6433, 68.3710,\n         64.9752, 61.0599],\n        [62.7363, 64.6504, 67.9375, 64.8257, 65.1635, 71.7084, 60.8273, 70.7119,\n         68.6509, 61.6843],\n        [54.3197, 53.7111, 60.0240, 55.4294, 52.3457, 57.9296, 52.8873, 62.8805,\n         55.6115, 53.6022],\n        [60.5780, 62.9722, 65.0165, 64.2063, 63.3938, 69.1100, 60.7717, 69.4481,\n         64.3164, 62.1445],\n        [60.8745, 60.7098, 68.3657, 64.2226, 63.4487, 68.2735, 62.5010, 72.2230,\n         65.4258, 60.9801],\n        [59.4931, 60.2802, 66.3516, 61.6372, 60.9445, 69.6204, 61.0124, 67.5748,\n         66.9382, 61.1548],\n        [60.3342, 61.4749, 65.4694, 62.7326, 59.7248, 65.7595, 60.1107, 66.6366,\n         60.3396, 60.8611],\n        [65.7997, 63.7855, 69.5785, 64.1762, 67.4740, 72.3268, 66.0890, 72.9040,\n         71.3994, 67.4301],\n        [62.7392, 64.2987, 65.9147, 66.4765, 62.4322, 70.1015, 62.1282, 71.5418,\n         67.0275, 61.1371],\n        [60.8796, 61.2297, 64.2873, 61.5603, 62.2104, 63.0450, 59.7677, 66.7137,\n         61.1736, 59.9572],\n        [63.2981, 63.4129, 66.9431, 64.5520, 64.3336, 68.7468, 62.4163, 71.7116,\n         64.4875, 60.4904],\n        [64.1962, 62.9496, 68.9589, 65.4115, 60.4983, 67.4706, 61.4799, 70.8977,\n         64.7616, 61.2844],\n        [61.2286, 63.4579, 67.6964, 62.9788, 63.2864, 64.7491, 60.2678, 68.9645,\n         66.9732, 61.9798],\n        [55.4206, 52.8158, 56.3284, 53.3623, 54.7183, 58.2841, 53.2873, 60.5754,\n         56.4564, 51.3171],\n        [58.1648, 57.0870, 64.4275, 58.5546, 58.0171, 63.6614, 56.9174, 64.3554,\n         59.2615, 58.9541],\n        [52.5515, 52.5090, 57.7002, 54.9607, 55.3212, 54.1857, 54.3910, 60.1767,\n         53.9714, 52.6455],\n        [62.8995, 63.6366, 67.4094, 64.6982, 65.9481, 65.9407, 63.9550, 70.6559,\n         63.3233, 65.5470],\n        [61.8234, 61.8248, 67.7563, 61.0223, 66.5523, 66.9667, 61.2707, 69.7700,\n         65.9614, 64.7295],\n        [56.8995, 59.1655, 60.4707, 58.4377, 59.2044, 66.5953, 61.0874, 64.5102,\n         62.4035, 58.2514],\n        [59.2704, 62.0870, 67.5454, 63.2989, 62.5687, 70.4773, 60.2301, 70.0880,\n         66.9459, 61.2120],\n        [63.1167, 58.8674, 65.6730, 60.9768, 62.9182, 63.1528, 58.9740, 64.7089,\n         60.9103, 62.4113],\n        [53.7201, 56.0395, 60.9689, 54.2934, 56.4717, 62.2988, 54.5846, 62.4127,\n         56.8011, 53.9555],\n        [59.7225, 60.6118, 63.4484, 62.9572, 60.9200, 65.6499, 60.7261, 67.9420,\n         61.9798, 60.8118],\n        [62.9938, 59.8905, 66.1409, 62.4924, 62.3435, 69.6800, 60.1493, 69.6245,\n         61.7123, 62.5201],\n        [61.1204, 63.8968, 66.2618, 65.4109, 64.3910, 69.1516, 61.4445, 71.5218,\n         68.5283, 62.7486],\n        [60.9809, 56.6233, 61.1778, 59.8400, 60.1300, 66.1855, 61.2798, 66.2936,\n         63.6197, 56.2901],\n        [63.8984, 66.3771, 70.5493, 67.4729, 66.0235, 72.2073, 65.8331, 70.4998,\n         69.3184, 64.9943]])\n"
     ]
    }
   ],
   "source": [
    "## Your solution   \n",
    "def sigmoid_activation(x):\n",
    "    return 1/(1+torch.exp(-x))\n",
    "\n",
    "# need to flatten the inputs (make 28x28 matrix a 784x1 matrix)\n",
    "inputs = images.view(images.shape[0], -1) # -1 is a shortcut meaning get all of them\n",
    "w1 = torch.randn(784, 256) # want there to be 256 hidden layers\n",
    "b1 = torch.randn(256)\n",
    "\n",
    "w2 = torch.rand(256, 10) # want 10 output layers (each one giving the possibility of each digit)\n",
    "b2 = torch.randn(10)\n",
    "\n",
    "hidden_layer = sigmoid_activation(torch.mm(inputs, w1) + b1)\n",
    "\n",
    "out = torch.mm(hidden_layer, w2) + b2\n",
    "print(out.shape)\n",
    "print(out)"
   ]
  },
  {
   "cell_type": "markdown",
   "metadata": {},
   "source": [
    "Now we have 10 outputs for our network. We want to pass in an image to our network and get out a probability distribution over the classes that tells us the likely class(es) the image belongs to. Something that looks like this:\n",
    "<img src='assets/image_distribution.png' width=500px>\n",
    "\n",
    "Here we see that the probability for each class is roughly the same. This is representing an untrained network, it hasn't seen any data yet so it just returns a uniform distribution with equal probabilities for each class.\n",
    "\n",
    "To calculate this probability distribution, we often use the [**softmax** function](https://en.wikipedia.org/wiki/Softmax_function). Mathematically this looks like\n",
    "\n",
    "$$\n",
    "\\Large \\sigma(x_i) = \\cfrac{e^{x_i}}{\\sum_k^K{e^{x_k}}}\n",
    "$$\n",
    "\n",
    "What this does is squish each input $x_i$ between 0 and 1 and normalizes the values to give you a proper probability distribution where the probabilites sum up to one.\n",
    "\n",
    "> **Exercise:** Implement a function `softmax` that performs the softmax calculation and returns probability distributions for each example in the batch. Note that you'll need to pay attention to the shapes when doing this. If you have a tensor `a` with shape `(64, 10)` and a tensor `b` with shape `(64,)`, doing `a/b` will give you an error because PyTorch will try to do the division across the columns (called broadcasting) but you'll get a size mismatch. The way to think about this is for each of the 64 examples, you only want to divide by one value, the sum in the denominator. So you need `b` to have a shape of `(64, 1)`. This way PyTorch will divide the 10 values in each row of `a` by the one value in each row of `b`. Pay attention to how you take the sum as well. You'll need to define the `dim` keyword in `torch.sum`. Setting `dim=0` takes the sum across the rows while `dim=1` takes the sum across the columns."
   ]
  },
  {
   "cell_type": "code",
   "execution_count": 41,
   "metadata": {
    "collapsed": true
   },
   "outputs": [
    {
     "output_type": "stream",
     "name": "stdout",
     "text": [
      "torch.Size([64, 10])\ntensor([1.0000, 1.0000, 1.0000, 1.0000, 1.0000, 1.0000, 1.0000, 1.0000, 1.0000,\n        1.0000, 1.0000, 1.0000, 1.0000, 1.0000, 1.0000, 1.0000, 1.0000, 1.0000,\n        1.0000, 1.0000, 1.0000, 1.0000, 1.0000, 1.0000, 1.0000, 1.0000, 1.0000,\n        1.0000, 1.0000, 1.0000, 1.0000, 1.0000, 1.0000, 1.0000, 1.0000, 1.0000,\n        1.0000, 1.0000, 1.0000, 1.0000, 1.0000, 1.0000, 1.0000, 1.0000, 1.0000,\n        1.0000, 1.0000, 1.0000, 1.0000, 1.0000, 1.0000, 1.0000, 1.0000, 1.0000,\n        1.0000, 1.0000, 1.0000, 1.0000, 1.0000, 1.0000, 1.0000, 1.0000, 1.0000,\n        1.0000])\n"
     ]
    }
   ],
   "source": [
    "def softmax(x):\n",
    "    ## TODO: Implement the softmax function here\n",
    "\n",
    "    # Explanation of the following line:\n",
    "    # torch.exp(x) is going to create a tensor where each value of is e^x\n",
    "    # torch.sum(torch.exp(x), dim =1) creates a sum of the tensor that has the exponentials\n",
    "    # this however creates a 64x1 vector. If you left it like that, wen dividing the x would divide by all 64 in that column\n",
    "    # so we need to use .view(-1, 1) which basically means for all of the rows, only use 1 column\n",
    "    return torch.exp(x)/torch.sum(torch.exp(x), dim =1).view(-1,1)\n",
    "\n",
    "probabilities = softmax(out)\n",
    "print(probabilities.shape)\n",
    "print(probabilities.sum(dim=1))"
   ]
  },
  {
   "cell_type": "markdown",
   "metadata": {},
   "source": [
    "## Building networks with PyTorch\n",
    "\n",
    "PyTorch provides a module `nn` that makes building networks much simpler. Here I'll show you how to build the same one as above with 784 inputs, 256 hidden units, 10 output units and a softmax output."
   ]
  },
  {
   "cell_type": "code",
   "execution_count": 42,
   "metadata": {
    "collapsed": true
   },
   "outputs": [],
   "source": [
    "from torch import nn"
   ]
  },
  {
   "cell_type": "code",
   "execution_count": 43,
   "metadata": {
    "collapsed": true
   },
   "outputs": [],
   "source": [
    "class Network(nn.Module):\n",
    "    def __init__(self):\n",
    "        super().__init__()\n",
    "        \n",
    "        # Inputs to hidden layer linear transformation\n",
    "        self.hidden = nn.Linear(784, 256)\n",
    "        # Output layer, 10 units - one for each digit\n",
    "        self.output = nn.Linear(256, 10)\n",
    "        \n",
    "        # Define sigmoid activation and softmax output \n",
    "        self.sigmoid = nn.Sigmoid()\n",
    "        self.softmax = nn.Softmax(dim=1)\n",
    "        \n",
    "    def forward(self, x):\n",
    "        # Pass the input tensor through each of our operations\n",
    "        x = self.hidden(x)\n",
    "        x = self.sigmoid(x)\n",
    "        x = self.output(x)\n",
    "        x = self.softmax(x)\n",
    "        \n",
    "        return x"
   ]
  },
  {
   "cell_type": "markdown",
   "metadata": {},
   "source": [
    "Let's go through this bit by bit.\n",
    "\n",
    "```python\n",
    "class Network(nn.Module):\n",
    "```\n",
    "\n",
    "Here we're inheriting from `nn.Module`. Combined with `super().__init__()` this creates a class that tracks the architecture and provides a lot of useful methods and attributes. It is mandatory to inherit from `nn.Module` when you're creating a class for your network. The name of the class itself can be anything.\n",
    "\n",
    "```python\n",
    "self.hidden = nn.Linear(784, 256)\n",
    "```\n",
    "\n",
    "This line creates a module for a linear transformation, $x\\mathbf{W} + b$, with 784 inputs and 256 outputs and assigns it to `self.hidden`. The module automatically creates the weight and bias tensors which we'll use in the `forward` method. You can access the weight and bias tensors once the network (`net`) is created with `net.hidden.weight` and `net.hidden.bias`.\n",
    "\n",
    "```python\n",
    "self.output = nn.Linear(256, 10)\n",
    "```\n",
    "\n",
    "Similarly, this creates another linear transformation with 256 inputs and 10 outputs.\n",
    "\n",
    "```python\n",
    "self.sigmoid = nn.Sigmoid()\n",
    "self.softmax = nn.Softmax(dim=1)\n",
    "```\n",
    "\n",
    "Here I defined operations for the sigmoid activation and softmax output. Setting `dim=1` in `nn.Softmax(dim=1)` calculates softmax across the columns.\n",
    "\n",
    "```python\n",
    "def forward(self, x):\n",
    "```\n",
    "\n",
    "PyTorch networks created with `nn.Module` must have a `forward` method defined. It takes in a tensor `x` and passes it through the operations you defined in the `__init__` method.\n",
    "\n",
    "```python\n",
    "x = self.hidden(x)\n",
    "x = self.sigmoid(x)\n",
    "x = self.output(x)\n",
    "x = self.softmax(x)\n",
    "```\n",
    "\n",
    "Here the input tensor `x` is passed through each operation and reassigned to `x`. We can see that the input tensor goes through the hidden layer, then a sigmoid function, then the output layer, and finally the softmax function. It doesn't matter what you name the variables here, as long as the inputs and outputs of the operations match the network architecture you want to build. The order in which you define things in the `__init__` method doesn't matter, but you'll need to sequence the operations correctly in the `forward` method.\n",
    "\n",
    "Now we can create a `Network` object."
   ]
  },
  {
   "cell_type": "code",
   "execution_count": 44,
   "metadata": {
    "collapsed": true
   },
   "outputs": [
    {
     "output_type": "execute_result",
     "data": {
      "text/plain": [
       "Network(\n",
       "  (hidden): Linear(in_features=784, out_features=256, bias=True)\n",
       "  (output): Linear(in_features=256, out_features=10, bias=True)\n",
       "  (sigmoid): Sigmoid()\n",
       "  (softmax): Softmax(dim=1)\n",
       ")"
      ]
     },
     "metadata": {},
     "execution_count": 44
    }
   ],
   "source": [
    "# Create the network and look at its text representation\n",
    "model = Network()\n",
    "model"
   ]
  },
  {
   "cell_type": "markdown",
   "metadata": {},
   "source": [
    "You can define the network somewhat more concisely and clearly using the `torch.nn.functional` module. This is the most common way you'll see networks defined as many operations are simple element-wise functions. We normally import this module as `F`, `import torch.nn.functional as F`."
   ]
  },
  {
   "cell_type": "code",
   "execution_count": 45,
   "metadata": {
    "collapsed": true
   },
   "outputs": [],
   "source": [
    "import torch.nn.functional as F\n",
    "\n",
    "class Network(nn.Module):\n",
    "    def __init__(self):\n",
    "        super().__init__()\n",
    "        # Inputs to hidden layer linear transformation\n",
    "        self.hidden = nn.Linear(784, 256)\n",
    "        # Output layer, 10 units - one for each digit\n",
    "        self.output = nn.Linear(256, 10)\n",
    "        \n",
    "    def forward(self, x):\n",
    "        # Hidden layer with sigmoid activation\n",
    "        x = F.sigmoid(self.hidden(x))\n",
    "        # Output layer with softmax activation\n",
    "        x = F.softmax(self.output(x), dim=1)\n",
    "        \n",
    "        return x"
   ]
  },
  {
   "cell_type": "markdown",
   "metadata": {},
   "source": [
    "### Activation functions\n",
    "\n",
    "So far we've only been looking at the sigmoid activation function, but in general any function can be used as an activation function. The only requirement is that for a network to approximate a non-linear function, the activation functions must be non-linear. Here are a few more examples of common activation functions: Tanh (hyperbolic tangent), and ReLU (rectified linear unit).\n",
    "\n",
    "<img src=\"assets/activation.png\" width=700px>\n",
    "\n",
    "In practice, the ReLU function is used almost exclusively as the activation function for hidden layers."
   ]
  },
  {
   "cell_type": "markdown",
   "metadata": {},
   "source": [
    "### Your Turn to Build a Network\n",
    "\n",
    "<img src=\"assets/mlp_mnist.png\" width=600px>\n",
    "\n",
    "> **Exercise:** Create a network with 784 input units, a hidden layer with 128 units and a ReLU activation, then a hidden layer with 64 units and a ReLU activation, and finally an output layer with a softmax activation as shown above. You can use a ReLU activation with the `nn.ReLU` module or `F.relu` function.\n",
    "\n",
    "It's good practice to name your layers by their type of network, for instance 'fc' to represent a fully-connected layer. As you code your solution, use `fc1`, `fc2`, and `fc3` as your layer names."
   ]
  },
  {
   "cell_type": "code",
   "execution_count": 46,
   "metadata": {
    "collapsed": true,
    "scrolled": true
   },
   "outputs": [
    {
     "output_type": "execute_result",
     "data": {
      "text/plain": [
       "My_Network(\n",
       "  (fc1): Linear(in_features=784, out_features=128, bias=True)\n",
       "  (fc2): Linear(in_features=128, out_features=64, bias=True)\n",
       "  (fc3): Linear(in_features=64, out_features=10, bias=True)\n",
       ")"
      ]
     },
     "metadata": {},
     "execution_count": 46
    }
   ],
   "source": [
    "## Your solution here\n",
    "class My_Network(nn.Module):\n",
    "    def __init__(self):\n",
    "        super().__init__()\n",
    "        self.fc1 = nn.Linear(784, 128)\n",
    "        self.fc2 = nn.Linear(128, 64)\n",
    "        self.fc3 = nn.Linear(64, 10)\n",
    "    def forward(self, x):\n",
    "        x = F.relu(self.fc1(x))\n",
    "        x = F.relu(self.fc2(x))\n",
    "        x = F.softmax(self.fc3(x))\n",
    "        return x\n",
    "model = My_Network()\n",
    "model"
   ]
  },
  {
   "cell_type": "markdown",
   "metadata": {},
   "source": [
    "### Initializing weights and biases\n",
    "\n",
    "The weights and such are automatically initialized for you, but it's possible to customize how they are initialized. The weights and biases are tensors attached to the layer you defined, you can get them with `model.fc1.weight` for instance."
   ]
  },
  {
   "cell_type": "code",
   "execution_count": 47,
   "metadata": {
    "collapsed": true
   },
   "outputs": [
    {
     "output_type": "stream",
     "name": "stdout",
     "text": [
      "Parameter containing:\ntensor([[ 0.0275, -0.0025,  0.0245,  ...,  0.0234,  0.0009, -0.0074],\n        [-0.0138,  0.0306,  0.0123,  ...,  0.0149,  0.0119, -0.0033],\n        [ 0.0245, -0.0207, -0.0281,  ..., -0.0314,  0.0195, -0.0081],\n        ...,\n        [-0.0308,  0.0057,  0.0218,  ..., -0.0280,  0.0211,  0.0011],\n        [ 0.0316, -0.0027, -0.0250,  ...,  0.0263, -0.0328,  0.0194],\n        [-0.0047,  0.0179,  0.0251,  ..., -0.0101,  0.0012, -0.0211]],\n       requires_grad=True)\nParameter containing:\ntensor([ 0.0258, -0.0189,  0.0041, -0.0022, -0.0230,  0.0111, -0.0219, -0.0237,\n        -0.0047,  0.0061,  0.0115, -0.0185,  0.0039, -0.0295, -0.0065, -0.0213,\n         0.0314, -0.0002,  0.0126, -0.0300,  0.0207, -0.0193,  0.0233, -0.0273,\n        -0.0241, -0.0168,  0.0118, -0.0209,  0.0348, -0.0224,  0.0186,  0.0241,\n         0.0286, -0.0084, -0.0256, -0.0251,  0.0039,  0.0284, -0.0232,  0.0168,\n        -0.0087,  0.0067,  0.0301,  0.0194, -0.0309, -0.0305, -0.0158,  0.0091,\n         0.0189, -0.0192,  0.0136, -0.0300,  0.0030, -0.0108,  0.0036, -0.0238,\n        -0.0118,  0.0121,  0.0331,  0.0240, -0.0203,  0.0351,  0.0122, -0.0331,\n        -0.0347, -0.0112, -0.0056, -0.0233, -0.0309,  0.0113,  0.0312,  0.0202,\n         0.0144, -0.0295,  0.0148, -0.0173, -0.0205,  0.0129, -0.0152, -0.0029,\n         0.0177,  0.0201, -0.0250, -0.0096, -0.0104, -0.0272, -0.0108, -0.0186,\n         0.0209, -0.0341, -0.0036, -0.0058, -0.0147, -0.0063,  0.0011, -0.0041,\n        -0.0069,  0.0305, -0.0211, -0.0317,  0.0098,  0.0188, -0.0126,  0.0191,\n         0.0135,  0.0028, -0.0107, -0.0250, -0.0307,  0.0338, -0.0204, -0.0167,\n        -0.0349,  0.0233,  0.0133, -0.0330,  0.0013,  0.0078, -0.0177,  0.0086,\n         0.0346,  0.0292, -0.0080, -0.0058,  0.0296, -0.0226, -0.0244, -0.0055],\n       requires_grad=True)\n"
     ]
    }
   ],
   "source": [
    "print(model.fc1.weight)\n",
    "print(model.fc1.bias)"
   ]
  },
  {
   "cell_type": "markdown",
   "metadata": {},
   "source": [
    "For custom initialization, we want to modify these tensors in place. These are actually autograd *Variables*, so we need to get back the actual tensors with `model.fc1.weight.data`. Once we have the tensors, we can fill them with zeros (for biases) or random normal values."
   ]
  },
  {
   "cell_type": "code",
   "execution_count": 48,
   "metadata": {
    "collapsed": true
   },
   "outputs": [
    {
     "output_type": "execute_result",
     "data": {
      "text/plain": [
       "tensor([0., 0., 0., 0., 0., 0., 0., 0., 0., 0., 0., 0., 0., 0., 0., 0., 0., 0., 0., 0., 0., 0., 0., 0.,\n",
       "        0., 0., 0., 0., 0., 0., 0., 0., 0., 0., 0., 0., 0., 0., 0., 0., 0., 0., 0., 0., 0., 0., 0., 0.,\n",
       "        0., 0., 0., 0., 0., 0., 0., 0., 0., 0., 0., 0., 0., 0., 0., 0., 0., 0., 0., 0., 0., 0., 0., 0.,\n",
       "        0., 0., 0., 0., 0., 0., 0., 0., 0., 0., 0., 0., 0., 0., 0., 0., 0., 0., 0., 0., 0., 0., 0., 0.,\n",
       "        0., 0., 0., 0., 0., 0., 0., 0., 0., 0., 0., 0., 0., 0., 0., 0., 0., 0., 0., 0., 0., 0., 0., 0.,\n",
       "        0., 0., 0., 0., 0., 0., 0., 0.])"
      ]
     },
     "metadata": {},
     "execution_count": 48
    }
   ],
   "source": [
    "# Set biases to all zeros\n",
    "model.fc1.bias.data.fill_(0)"
   ]
  },
  {
   "cell_type": "code",
   "execution_count": 49,
   "metadata": {
    "collapsed": true
   },
   "outputs": [
    {
     "output_type": "execute_result",
     "data": {
      "text/plain": [
       "tensor([[-0.0217,  0.0106, -0.0044,  ...,  0.0017,  0.0005, -0.0014],\n",
       "        [-0.0016, -0.0054,  0.0064,  ..., -0.0061,  0.0054,  0.0051],\n",
       "        [ 0.0100, -0.0075, -0.0085,  ..., -0.0149, -0.0206, -0.0021],\n",
       "        ...,\n",
       "        [-0.0085, -0.0022, -0.0002,  ...,  0.0032,  0.0138,  0.0085],\n",
       "        [-0.0040,  0.0019, -0.0071,  ...,  0.0048, -0.0042,  0.0116],\n",
       "        [ 0.0161,  0.0207,  0.0074,  ...,  0.0009, -0.0123,  0.0004]])"
      ]
     },
     "metadata": {},
     "execution_count": 49
    }
   ],
   "source": [
    "# sample from random normal with standard dev = 0.01\n",
    "model.fc1.weight.data.normal_(std=0.01)"
   ]
  },
  {
   "cell_type": "markdown",
   "metadata": {},
   "source": [
    "### Forward pass\n",
    "\n",
    "Now that we have a network, let's see what happens when we pass in an image."
   ]
  },
  {
   "cell_type": "code",
   "execution_count": 50,
   "metadata": {
    "collapsed": true
   },
   "outputs": [
    {
     "output_type": "stream",
     "name": "stderr",
     "text": [
      "<ipython-input-46-8ac0c89534a6>:11: UserWarning: Implicit dimension choice for softmax has been deprecated. Change the call to include dim=X as an argument.\n  x = F.softmax(self.fc3(x))\n"
     ]
    },
    {
     "output_type": "display_data",
     "data": {
      "text/plain": "<Figure size 432x648 with 2 Axes>",
      "image/png": "[encoded data removed]"
     },
     "metadata": {
      "image/png": {
       "width": 424,
       "height": 235
      },
      "needs_background": "light"
     }
    }
   ],
   "source": [
    "# Grab some data \n",
    "dataiter = iter(trainloader)\n",
    "images, labels = dataiter.next()\n",
    "\n",
    "# Resize images into a 1D vector, new shape is (batch size, color channels, image pixels) \n",
    "images.resize_(64, 1, 784)\n",
    "# or images.resize_(images.shape[0], 1, 784) to automatically get batch size\n",
    "\n",
    "# Forward pass through the network\n",
    "img_idx = 0\n",
    "ps = model.forward(images[img_idx,:])\n",
    "\n",
    "img = images[img_idx]\n",
    "helper.view_classify(img.view(1, 28, 28), ps)"
   ]
  },
  {
   "cell_type": "markdown",
   "metadata": {},
   "source": [
    "As you can see above, our network has basically no idea what this digit is. It's because we haven't trained it yet, all the weights are random!\n",
    "\n",
    "### Using `nn.Sequential`\n",
    "\n",
    "PyTorch provides a convenient way to build networks like this where a tensor is passed sequentially through operations, `nn.Sequential` ([documentation](https://pytorch.org/docs/master/nn.html#torch.nn.Sequential)). Using this to build the equivalent network:"
   ]
  },
  {
   "cell_type": "code",
   "execution_count": 51,
   "metadata": {
    "collapsed": true
   },
   "outputs": [
    {
     "output_type": "stream",
     "name": "stdout",
     "text": [
      "Sequential(\n  (0): Linear(in_features=784, out_features=128, bias=True)\n  (1): ReLU()\n  (2): Linear(in_features=128, out_features=64, bias=True)\n  (3): ReLU()\n  (4): Linear(in_features=64, out_features=10, bias=True)\n  (5): Softmax(dim=1)\n)\n"
     ]
    },
    {
     "output_type": "display_data",
     "data": {
      "text/plain": "<Figure size 432x648 with 2 Axes>",
      "image/png": "[encoded data removed]"
     },
     "metadata": {
      "image/png": {
       "width": 424,
       "height": 235
      },
      "needs_background": "light"
     }
    }
   ],
   "source": [
    "# Hyperparameters for our network\n",
    "input_size = 784\n",
    "hidden_sizes = [128, 64]\n",
    "output_size = 10\n",
    "\n",
    "# Build a feed-forward network\n",
    "model = nn.Sequential(nn.Linear(input_size, hidden_sizes[0]),\n",
    "                      nn.ReLU(),\n",
    "                      nn.Linear(hidden_sizes[0], hidden_sizes[1]),\n",
    "                      nn.ReLU(),\n",
    "                      nn.Linear(hidden_sizes[1], output_size),\n",
    "                      nn.Softmax(dim=1))\n",
    "print(model)\n",
    "\n",
    "# Forward pass through the network and display output\n",
    "images, labels = next(iter(trainloader))\n",
    "images.resize_(images.shape[0], 1, 784)\n",
    "ps = model.forward(images[0,:])\n",
    "helper.view_classify(images[0].view(1, 28, 28), ps)"
   ]
  },
  {
   "cell_type": "markdown",
   "metadata": {},
   "source": [
    "Here our model is the same as before: 784 input units, a hidden layer with 128 units, ReLU activation, 64 unit hidden layer, another ReLU, then the output layer with 10 units, and the softmax output.\n",
    "\n",
    "The operations are available by passing in the appropriate index. For example, if you want to get first Linear operation and look at the weights, you'd use `model[0]`."
   ]
  },
  {
   "cell_type": "code",
   "execution_count": 52,
   "metadata": {
    "collapsed": true
   },
   "outputs": [
    {
     "output_type": "stream",
     "name": "stdout",
     "text": [
      "Linear(in_features=784, out_features=128, bias=True)\n"
     ]
    },
    {
     "output_type": "execute_result",
     "data": {
      "text/plain": [
       "Parameter containing:\n",
       "tensor([[-0.0355,  0.0353,  0.0091,  ..., -0.0059, -0.0226, -0.0106],\n",
       "        [ 0.0287,  0.0190,  0.0296,  ..., -0.0235, -0.0276,  0.0311],\n",
       "        [ 0.0022, -0.0330, -0.0075,  ...,  0.0172,  0.0178,  0.0052],\n",
       "        ...,\n",
       "        [-0.0312, -0.0242,  0.0001,  ..., -0.0071,  0.0067, -0.0069],\n",
       "        [-0.0270,  0.0343,  0.0076,  ..., -0.0162,  0.0174,  0.0035],\n",
       "        [-0.0092, -0.0143, -0.0262,  ...,  0.0181, -0.0254, -0.0197]],\n",
       "       requires_grad=True)"
      ]
     },
     "metadata": {},
     "execution_count": 52
    }
   ],
   "source": [
    "print(model[0])\n",
    "model[0].weight"
   ]
  },
  {
   "cell_type": "markdown",
   "metadata": {},
   "source": [
    "You can also pass in an `OrderedDict` to name the individual layers and operations, instead of using incremental integers. Note that dictionary keys must be unique, so _each operation must have a different name_."
   ]
  },
  {
   "cell_type": "code",
   "execution_count": 53,
   "metadata": {
    "collapsed": true
   },
   "outputs": [
    {
     "output_type": "execute_result",
     "data": {
      "text/plain": [
       "Sequential(\n",
       "  (fc1): Linear(in_features=784, out_features=128, bias=True)\n",
       "  (relu1): ReLU()\n",
       "  (fc2): Linear(in_features=128, out_features=64, bias=True)\n",
       "  (relu2): ReLU()\n",
       "  (output): Linear(in_features=64, out_features=10, bias=True)\n",
       "  (softmax): Softmax(dim=1)\n",
       ")"
      ]
     },
     "metadata": {},
     "execution_count": 53
    }
   ],
   "source": [
    "from collections import OrderedDict\n",
    "model = nn.Sequential(OrderedDict([\n",
    "                      ('fc1', nn.Linear(input_size, hidden_sizes[0])),\n",
    "                      ('relu1', nn.ReLU()),\n",
    "                      ('fc2', nn.Linear(hidden_sizes[0], hidden_sizes[1])),\n",
    "                      ('relu2', nn.ReLU()),\n",
    "                      ('output', nn.Linear(hidden_sizes[1], output_size)),\n",
    "                      ('softmax', nn.Softmax(dim=1))]))\n",
    "model"
   ]
  },
  {
   "cell_type": "markdown",
   "metadata": {},
   "source": [
    "Now you can access layers either by integer or the name"
   ]
  },
  {
   "cell_type": "code",
   "execution_count": 68,
   "metadata": {
    "collapsed": true
   },
   "outputs": [
    {
     "output_type": "stream",
     "name": "stdout",
     "text": "Linear(in_features=784, out_features=128, bias=True)\nLinear(in_features=784, out_features=128, bias=True)\n"
    }
   ],
   "source": [
    "print(model[0])\n",
    "print(model.fc1)"
   ]
  },
  {
   "cell_type": "markdown",
   "metadata": {},
   "source": [
    "In the next notebook, we'll see how we can train a neural network to accuractly predict the numbers appearing in the MNIST images."
   ]
  }
 ],
 "metadata": {
  "kernelspec": {
   "name": "python388jvsc74a57bd02c8ae7b7397383be484f509670a744b7a75aaa69a8c48f2fc2b876db86f77bea",
   "display_name": "Python 3.8.8 64-bit"
  },
  "language_info": {
   "codemirror_mode": {
    "name": "ipython",
    "version": 3
   },
   "file_extension": ".py",
   "mimetype": "text/x-python",
   "name": "python",
   "nbconvert_exporter": "python",
   "pygments_lexer": "ipython3",
   "version": "3.8.8"
  },
  "metadata": {
   "interpreter": {
    "hash": "2c8ae7b7397383be484f509670a744b7a75aaa69a8c48f2fc2b876db86f77bea"
   }
  }
 },
 "nbformat": 4,
 "nbformat_minor": 2
}